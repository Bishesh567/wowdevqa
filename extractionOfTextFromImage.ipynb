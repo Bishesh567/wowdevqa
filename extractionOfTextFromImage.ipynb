{
 "cells": [
  {
   "cell_type": "code",
   "execution_count": 1,
   "id": "fcd4fcdc",
   "metadata": {},
   "outputs": [],
   "source": [
    "import requests\n",
    "import cv2\n",
    "import pytesseract\n",
    "import matplotlib.pyplot as plt\n",
    "from PIL import Image\n",
    "import keras.preprocessing.image as kpi"
   ]
  },
  {
   "cell_type": "code",
   "execution_count": 2,
   "id": "2038c8b0",
   "metadata": {},
   "outputs": [],
   "source": [
    "image = cv2.imread(\"C:/Users/dell/Desktop/wowdevqa/site/wow/static/image/dash.jpg\")\n",
    "pytesseract.pytesseract.tesseract_cmd = 'C:/Program Files/Tesseract-OCR/tesseract.exe'\n",
    "#plt.imshow(image)"
   ]
  },
  {
   "cell_type": "code",
   "execution_count": 3,
   "id": "1e043591",
   "metadata": {},
   "outputs": [],
   "source": [
    "#image = kpi.img_to_array(img)\n",
    "#image = cv2.imread(image,cv2.IMREAD_GRAYSCALE)"
   ]
  },
  {
   "cell_type": "code",
   "execution_count": 4,
   "id": "b7f04eef",
   "metadata": {},
   "outputs": [
    {
     "name": "stdout",
     "output_type": "stream",
     "text": [
      " \n",
      "\f",
      "\n"
     ]
    }
   ],
   "source": [
    "text = pytesseract.image_to_string(image)\n",
    "print(text)"
   ]
  },
  {
   "cell_type": "code",
   "execution_count": 1,
   "id": "f5fd396c",
   "metadata": {},
   "outputs": [],
   "source": [
    "import re"
   ]
  },
  {
   "cell_type": "code",
   "execution_count": 7,
   "id": "c86d40aa",
   "metadata": {},
   "outputs": [
    {
     "name": "stdout",
     "output_type": "stream",
     "text": [
      "Al and Machine learning\n",
      "Sweigart\n"
     ]
    }
   ],
   "source": [
    " nameRegex = re.compile(r'First Name: (.*) Last Name: (.*)')\n",
    "mo = nameRegex.search('First Name: Al and Machine learning Last Name: Sweigart')\n",
    "print(mo.group(1))\n",
    "\n",
    "\n",
    "print(mo.group(2))\n"
   ]
  },
  {
   "cell_type": "code",
   "execution_count": 7,
   "id": "6b4499e4",
   "metadata": {},
   "outputs": [
    {
     "name": "stdout",
     "output_type": "stream",
     "text": [
      "['Intern project\\n', 'Multi-website advertisement agent \\n', '  1) Participant for website advertisement\\n', '\\ta) advertisers\\n', '\\tb) publisher\\n', '\\tc) advertizing broker(optional)\\n', '  2) Should Focus on two subject\\n', '\\ta) scheduling\\n', '\\t- In which time, we have to show ads.\\n', '\\tb) Personalization\\n', '\\t- Each person should feel ads made for me. \\n', '  * Our aim\\n', '\\tTo maximize total click through-rate.\\n', '   \\n', '  *Factor that effect personalized web advertising\\n', \"   1) Content of both publisher's page and advertisers.\\n\", '   2) Historival behavior of user, bahavior of currrent user\\n', '   3) Recently exposed advertisements and advertising feature\\n', '   4) advertising feature.\\n', '   5) behavior of user.\\n', '\\n', '  Yesterday working report\\n', 'research on \\n', '1) web mining \\n', '   \\n', '   \\n', '   I) web usage mining\\n', '\\tautomatic discovery of pattern in clickstream\\n', '\\t\\n', '\\t3 stages:\\n', '\\t1) Data collection and preprocessing\\n', '\\t2) pattern discovery\\n', '\\t3) pattern analysis\\n', '\\n', '\\t* Data preprocessing\\n', '\\t   a) Data cleaning\\n', '\\t   b) pageview identification\\n', '\\t   c) sessionizatin\\n', '\\t   d) Data transformation\\n', '\\t\\ti) Data integration\\n', '\\t\\tii) Data aggregation\\n', '\\t\\tiii) Data generalizatioin\\n', '\\n', 'Source of Data\\n', '1) Web server log file(ip, resource name, browser, os, refered field)\\n', '2) Application server logs\\n', '\\n', 'We obtain four type of data\\n', '1) usage data(primary source of data)\\n', '   - count the number of times hit the website\\n', '   - collected automatically\\n', '2) content data\\n', '   - Data available in website\\n', '   - eg:- text, image, video\\n', '3) structured data\\n', \"   - Desiginer's view of the content organization within the site\\n\", '4) User data\\n', '   - user profile information\\n', '\\tdemographic information\\n', '\\tuser rating\\n', '\\tpast purchases and visit histories\\n', '\\tother explicit or implicit representation of user interests\\n', '\\n', '\\tII) web content minig\\n', '\\t    primary task - data extraction, structure data is extracted from unstructure website\\n', '\\t    To facilitate data aggregation over various website by using extracted structred data.\\n', '\\t    Content may consist of text, image, audio, video or structured record, such as list and table\\n', '\\t    For text mining, use use beautiful soup module to extract text from HTML/ XML file.\\n', '\\t    This data are tokenized by using nltk module and then further processes are done.\\n', '\\t    \\n', '\\t    operation performed \\n', '\\t\\ttext mining \\n', '\\t\\timage scraping\\n', '\\t\\t\\t\\n', '\\n', 'todays I research different artical about advertisement handling system\\n', 'fuctionlities\\n', ' Idea - Platform where Advertisers sells Ads and Publisher Websites gets paid for displaying those Ads\\n', ' Algorithms used - Naive Bayes (For Text Classification) and Ad Ranking Algorithm (Based on 5 features)\\n', ' Monetization Factors - Cost per Click (CPC), Cost per Impression (CPM)\\n', ' Features - Relevancy of Ad to the Page, Location, CPC, CPM, Premium Membership\\n', '\\n', ' coding will start soon\\n', '\\n', '\\n', '\\t']\n"
     ]
    }
   ],
   "source": [
    "project_report = open(r\"C:/Users/dell/Desktop/wowdevqa/research.txt\")\n",
    "print(project_report.readlines())"
   ]
  },
  {
   "cell_type": "code",
   "execution_count": null,
   "id": "3eb01efb",
   "metadata": {},
   "outputs": [],
   "source": []
  },
  {
   "cell_type": "code",
   "execution_count": null,
   "id": "27ba365d",
   "metadata": {},
   "outputs": [],
   "source": []
  },
  {
   "cell_type": "code",
   "execution_count": null,
   "id": "503aabe0",
   "metadata": {},
   "outputs": [],
   "source": []
  }
 ],
 "metadata": {
  "kernelspec": {
   "display_name": "Python 3",
   "language": "python",
   "name": "python3"
  },
  "language_info": {
   "codemirror_mode": {
    "name": "ipython",
    "version": 3
   },
   "file_extension": ".py",
   "mimetype": "text/x-python",
   "name": "python",
   "nbconvert_exporter": "python",
   "pygments_lexer": "ipython3",
   "version": "3.8.8"
  }
 },
 "nbformat": 4,
 "nbformat_minor": 5
}
